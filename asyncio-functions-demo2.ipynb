{
 "cells": [
  {
   "cell_type": "code",
   "execution_count": null,
   "id": "c4a7cfb4",
   "metadata": {},
   "outputs": [],
   "source": [
    "import asyncio\n",
    "import time"
   ]
  },
  {
   "cell_type": "code",
   "execution_count": 10,
   "id": "fd46014e",
   "metadata": {},
   "outputs": [
    {
     "name": "stdout",
     "output_type": "stream",
     "text": [
      "Operation timed out\n",
      "Done\n"
     ]
    }
   ],
   "source": [
    "async def long_operation():\n",
    "    await asyncio.sleep(10)\n",
    "    return \"Completed\"\n",
    "\n",
    "\n",
    "async def main():\n",
    "    try:\n",
    "        result = await asyncio.wait_for(long_operation(), timeout=2)\n",
    "        print(result)\n",
    "    except asyncio.TimeoutError:\n",
    "        print(\"Operation timed out\")  # This will be printed\n",
    "\n",
    "if __name__ == \"__main__\":\n",
    "    await asyncio.create_task(main())\n",
    "    print(\"Done\")\n",
    "\n"
   ]
  },
  {
   "cell_type": "code",
   "execution_count": null,
   "id": "6567b143",
   "metadata": {},
   "outputs": [
    {
     "name": "stdout",
     "output_type": "stream",
     "text": [
      "Completed\n",
      "Done\n"
     ]
    }
   ],
   "source": [
    "async def long_running():\n",
    "    try:\n",
    "        await asyncio.sleep(10)\n",
    "        print(\"Completed\")\n",
    "    except asyncio.CancelledError:\n",
    "        print(\"Task was cancelled\")\n",
    "        raise\n",
    "\n",
    "\n",
    "async def main():\n",
    "    task = asyncio.create_task(long_running())\n",
    "\n",
    "    # Let it run for a bit then cancel\n",
    "    await asyncio.sleep(2)\n",
    "    task.cancel()\n",
    "\n",
    "    try:\n",
    "        await task\n",
    "    except asyncio.CancelledError:\n",
    "        print(\"Main: task cancelled successfully\")\n",
    "\n",
    "if __name__ == \"__main__\":\n",
    "    await main()\n",
    "    print(\"Done\")\n"
   ]
  },
  {
   "cell_type": "code",
   "execution_count": 18,
   "id": "b2539093",
   "metadata": {},
   "outputs": [
    {
     "name": "stdout",
     "output_type": "stream",
     "text": [
      "Result: Done in background loop\n"
     ]
    }
   ],
   "source": [
    "def run_in_new_loop(coro):\n",
    "    new_loop = asyncio.new_event_loop()\n",
    "    asyncio.set_event_loop(new_loop)\n",
    "    try:\n",
    "        return new_loop.run_until_complete(coro)\n",
    "    finally:\n",
    "        new_loop.close()\n",
    "\n",
    "\n",
    "# Usage\n",
    "import threading  # noqa: E402\n",
    "\n",
    "\n",
    "def start_background_loop():\n",
    "    result = run_in_new_loop(background_work())\n",
    "    print(f\"Result: {result}\")\n",
    "\n",
    "\n",
    "async def background_work():\n",
    "    await asyncio.sleep(1)\n",
    "    return \"Done in background loop\"\n",
    "\n",
    "\n",
    "# Run in a separate thread\n",
    "thread = threading.Thread(target=start_background_loop)\n",
    "thread.start()"
   ]
  },
  {
   "cell_type": "code",
   "execution_count": null,
   "id": "3e28ac29",
   "metadata": {},
   "outputs": [
    {
     "name": "stdout",
     "output_type": "stream",
     "text": [
      "Waiting for event...\n",
      "Event received, continuing\n",
      "Setting event\n",
      "Done\n"
     ]
    }
   ],
   "source": [
    "event = asyncio.Event()\n",
    "\n",
    "\n",
    "async def waiter():\n",
    "    print(\"Waiting for event...\")\n",
    "    await event.wait()\n",
    "    print(\"Event received, continuing\")\n",
    "\n",
    "\n",
    "async def setter():\n",
    "    await asyncio.sleep(2)  # Wait a bit\n",
    "    print(\"Setting event\")\n",
    "    event.set()\n",
    "\n",
    "\n",
    "async def main():\n",
    "    await asyncio.gather(waiter(), setter()) # type: ignore\n",
    "\n",
    "\n",
    "if __name__ == \"__main__\":\n",
    "    await main()\n",
    "    print(\"Done\")"
   ]
  },
  {
   "cell_type": "code",
   "execution_count": 21,
   "id": "6118d1af",
   "metadata": {},
   "outputs": [
    {
     "name": "stdout",
     "output_type": "stream",
     "text": [
      "Produced Item 0\n",
      "Consumed Item 0\n",
      "Produced Item 1\n",
      "Consumed Item 1\n",
      "Produced Item 2\n",
      "Produced Item 3\n",
      "Consumed Item 2\n",
      "Produced Item 4\n",
      "Consumed Item 3\n",
      "Consumed Item 4\n",
      "Done\n"
     ]
    }
   ],
   "source": [
    "async def producer(queue):\n",
    "    for i in range(5):\n",
    "        await asyncio.sleep(1)\n",
    "        item = f\"Item {i}\"\n",
    "        await queue.put(item)\n",
    "        print(f\"Produced {item}\")\n",
    "\n",
    "\n",
    "async def consumer(queue):\n",
    "    while True:\n",
    "        item = await queue.get()\n",
    "        print(f\"Consumed {item}\")\n",
    "        await asyncio.sleep(2)  # Process item\n",
    "        queue.task_done()\n",
    "\n",
    "\n",
    "async def main():\n",
    "    queue = asyncio.Queue()\n",
    "\n",
    "    # Start consumer and producer tasks\n",
    "    consumer_task = asyncio.create_task(consumer(queue))\n",
    "    producer_task = asyncio.create_task(producer(queue))\n",
    "\n",
    "    # Wait for producer to finish\n",
    "    await producer_task\n",
    "\n",
    "    # Wait for queue to be fully processed\n",
    "    await queue.join()\n",
    "\n",
    "    # Cancel consumer\n",
    "    consumer_task.cancel()\n",
    "\n",
    "\n",
    "if __name__ == \"__main__\":\n",
    "    await main()\n",
    "    print(\"Done\")"
   ]
  }
 ],
 "metadata": {
  "kernelspec": {
   "display_name": "autodeploy-eleven",
   "language": "python",
   "name": "python3"
  },
  "language_info": {
   "codemirror_mode": {
    "name": "ipython",
    "version": 3
   },
   "file_extension": ".py",
   "mimetype": "text/x-python",
   "name": "python",
   "nbconvert_exporter": "python",
   "pygments_lexer": "ipython3",
   "version": "3.11.11"
  }
 },
 "nbformat": 4,
 "nbformat_minor": 5
}
