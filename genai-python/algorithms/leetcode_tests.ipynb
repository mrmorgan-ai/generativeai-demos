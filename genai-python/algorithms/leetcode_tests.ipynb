{
 "cells": [
  {
   "cell_type": "markdown",
   "id": "84e13f2d",
   "metadata": {},
   "source": [
    "# Binary Search\n",
    "Divide the problem in the middle. Use only left, right and mid variables for trsck positions and indices"
   ]
  },
  {
   "cell_type": "code",
   "execution_count": null,
   "id": "a43a6fc8",
   "metadata": {},
   "outputs": [],
   "source": [
    "from typing import List\n",
    "\n",
    "class ReturnIndex_On:\n",
    "    def search(self, nums: List[int], target: int) -> int:\n",
    "        # nums -> array sorted in ascending order\n",
    "        # target -> integer\n",
    "        # goal: return index of the target in nums. return -1 if not\n",
    "        if target in nums:\n",
    "            index = nums.index(target)\n",
    "        else:\n",
    "            index = -1\n",
    "        return index\n",
    "        "
   ]
  },
  {
   "cell_type": "code",
   "execution_count": null,
   "id": "d65b627a",
   "metadata": {},
   "outputs": [],
   "source": [
    "class ReturnIndex_OLogn:\n",
    "    def search(self, nums: List[int], target: int) -> int:\n",
    "        # nums -> array sorted in ascending order\n",
    "        # target -> integer\n",
    "        # goal: return index of the target in nums. return -1 if not\n",
    "        left,right = 0, len(nums)-1\n",
    "        while left<=right:\n",
    "            mid = (left + right)//2\n",
    "            if nums[mid] == target:\n",
    "                return mid\n",
    "            elif nums[mid] < target:\n",
    "                left = mid + 1\n",
    "            else:\n",
    "                right = mid - 1\n",
    "        return -1        "
   ]
  },
  {
   "cell_type": "code",
   "execution_count": 8,
   "id": "089e3746",
   "metadata": {},
   "outputs": [],
   "source": [
    "class ListNode:\n",
    "    def __init__(self, val=0, next=None):\n",
    "        self.val = val\n",
    "        self.next = next"
   ]
  },
  {
   "cell_type": "code",
   "execution_count": null,
   "id": "99f3cada",
   "metadata": {},
   "outputs": [],
   "source": [
    "from typing import Optional\n",
    "\n",
    "class MergeSortedLists_On:\n",
    "    def mergeTwoLists(self, list1: Optional[ListNode], list2: Optional[ListNode]) -> Optional[ListNode]:\n",
    "        dummy = ListNode()\n",
    "        curr = dummy\n",
    "        while list1 and list2:               \n",
    "            if list1.val < list2.val:\n",
    "                curr.next = list1\n",
    "                list1, curr = list1.next, list1\n",
    "            else:\n",
    "                curr.next = list2\n",
    "                list2, curr = list2.next, list2\n",
    "                \n",
    "        if list1 or list2:\n",
    "            curr.next = list1 if list1 else list2\n",
    "            \n",
    "        return dummy.next"
   ]
  },
  {
   "cell_type": "code",
   "execution_count": null,
   "id": "5df49c5f",
   "metadata": {},
   "outputs": [],
   "source": []
  },
  {
   "cell_type": "markdown",
   "id": "24c1ccea",
   "metadata": {},
   "source": [
    "# "
   ]
  },
  {
   "cell_type": "code",
   "execution_count": null,
   "id": "3446346a",
   "metadata": {},
   "outputs": [],
   "source": [
    "class Solution:\n",
    "    def allPossibleFBT(self, n: int) -> List[Optional[TreeNode]]:\n",
    "        if n % 2 == 0:\n",
    "            return []\n",
    "\n",
    "        memo = {}\n",
    "\n",
    "        def _allPossibleFBT(n):\n",
    "            if n in memo:\n",
    "                return memo[n]\n",
    "\n",
    "            list = []\n",
    "            if n == 1:\n",
    "                list.append(TreeNode(0))\n",
    "            else:\n",
    "                for i in range(1, n - 1, 2):\n",
    "                    lTrees = _allPossibleFBT(i)\n",
    "                    rTrees = _allPossibleFBT(n - i - 1)\n",
    "\n",
    "                    for lt in lTrees:\n",
    "                        for rt in rTrees:\n",
    "                            list.append(TreeNode(0, lt, rt))\n",
    "\n",
    "            memo[n] = list\n",
    "            return list\n",
    "\n",
    "        return _allPossibleFBT(n)"
   ]
  },
  {
   "cell_type": "code",
   "execution_count": 8,
   "id": "a123fe1a",
   "metadata": {},
   "outputs": [
    {
     "name": "stdout",
     "output_type": "stream",
     "text": [
      "[[[None], [None]], [[None], [None]]]\n",
      "None\n"
     ]
    }
   ],
   "source": [
    "def dp_trees(n):\n",
    "    dp = [[[None] for i in range(n+2)] for j in range(n+2)]\n",
    "    print (dp)\n",
    "    for i in range(n, 0, -1):\n",
    "        for j in range(i, n+1):\n",
    "            res = []\n",
    "            for k in range(i, j+1):\n",
    "                leftSubtrees = dp[i][k-1]\n",
    "                rightSubtrees = dp[k+1][j]\n",
    "                \n",
    "                for left in leftSubtrees:\n",
    "                    for right in rightSubtrees:\n",
    "                        root = TreeNode(k, left, right)\n",
    "                        res.append(root)\n",
    "\n",
    "            dp[i][j] = res\n",
    "\n",
    "print(dp_trees(0))"
   ]
  },
  {
   "cell_type": "code",
   "execution_count": 6,
   "metadata": {},
   "outputs": [
    {
     "name": "stdout",
     "output_type": "stream",
     "text": [
      "0 4\n"
     ]
    }
   ],
   "source": [
    "nums = [2, 3, 1, 4, 5]\n",
    "left,right = 0, len(nums)-1\n",
    "print(left, right)"
   ]
  },
  {
   "cell_type": "code",
   "execution_count": 4,
   "metadata": {},
   "outputs": [
    {
     "name": "stdout",
     "output_type": "stream",
     "text": [
      "(1, 2, 3, 4, 5)\n"
     ]
    }
   ],
   "source": [
    "tuple_nums = tuple(nums)\n",
    "print(tuple_nums)"
   ]
  },
  {
   "cell_type": "code",
   "execution_count": 7,
   "id": "f6bcc01d",
   "metadata": {},
   "outputs": [
    {
     "name": "stdout",
     "output_type": "stream",
     "text": [
      "[2, 3, 1, 4, 5, 1, 2, 3, 4, 5]\n"
     ]
    }
   ],
   "source": [
    "nums2 = [1, 2, 3, 4, 5]\n",
    "numst = nums + nums2\n",
    "print(numst)"
   ]
  },
  {
   "cell_type": "code",
   "execution_count": 2,
   "id": "0d21982e",
   "metadata": {},
   "outputs": [
    {
     "name": "stdout",
     "output_type": "stream",
     "text": [
      "[0, 0, 0, 0, 0, 0]\n"
     ]
    }
   ],
   "source": [
    "n = 5\n",
    "dp = [0] * (n + 1)\n",
    "print(dp)\n"
   ]
  },
  {
   "cell_type": "code",
   "execution_count": null,
   "id": "bdfa3e28",
   "metadata": {},
   "outputs": [],
   "source": [
    "class Solution:\n",
    "    def generateTrees(self, n: int) -> List[Optional[TreeNode]]:\n",
    "        def generate_trees(start, end):\n",
    "            \n",
    "            list_bst = []\n",
    "            for root in range(start, end+1):\n",
    "                left_bst = generate_trees(start,root-1)\n",
    "                right_bst = generate_trees(root+1,end)\n",
    "                \n",
    "                for lbst in left_bst:\n",
    "                    for rbst in right_bst:\n",
    "                        bst = TreeNode(root)\n",
    "                        bst.left = lbst\n",
    "                        bst.right = rbst\n",
    "                        list_bst.append(bst)\n",
    "            return list_bst\n",
    "        return generate_trees(1,n) if n else []\n",
    "\n"
   ]
  },
  {
   "cell_type": "code",
   "execution_count": 6,
   "id": "ebf8bf7f",
   "metadata": {},
   "outputs": [
    {
     "name": "stdout",
     "output_type": "stream",
     "text": [
      "[['o', 'a', 'a', 'n'], ['e', 't', 'a', 'e'], ['i', 'h', 'k', 'r'], ['i', 'f', 'l', 'v']]\n"
     ]
    }
   ],
   "source": [
    "board = [\n",
    "    ['o', 'a', 'a', 'n'],\n",
    "    ['e', 't', 'a', 'e'],\n",
    "    ['i', 'h', 'k', 'r'],\n",
    "    ['i', 'f', 'l', 'v']\n",
    "]\n",
    "\n",
    "words = [\"oath\", \"pea\", \"eat\", \"rain\"]\n",
    "print(board)"
   ]
  },
  {
   "cell_type": "code",
   "execution_count": 5,
   "id": "73d5f41c",
   "metadata": {},
   "outputs": [
    {
     "name": "stdout",
     "output_type": "stream",
     "text": [
      "4\n"
     ]
    }
   ],
   "source": [
    "print(len(board[0]))"
   ]
  },
  {
   "cell_type": "code",
   "execution_count": null,
   "id": "791edd9f",
   "metadata": {},
   "outputs": [],
   "source": []
  }
 ],
 "metadata": {
  "kernelspec": {
   "display_name": "bootcamp-venv",
   "language": "python",
   "name": "python3"
  },
  "language_info": {
   "codemirror_mode": {
    "name": "ipython",
    "version": 3
   },
   "file_extension": ".py",
   "mimetype": "text/x-python",
   "name": "python",
   "nbconvert_exporter": "python",
   "pygments_lexer": "ipython3",
   "version": "3.12.0"
  }
 },
 "nbformat": 4,
 "nbformat_minor": 5
}
