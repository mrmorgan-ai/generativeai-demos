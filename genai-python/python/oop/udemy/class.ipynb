{
 "cells": [
  {
   "cell_type": "markdown",
   "id": "c0009bcc",
   "metadata": {},
   "source": [
    "# Geometry Game Example"
   ]
  },
  {
   "cell_type": "code",
   "execution_count": 1,
   "id": "8d8662a6",
   "metadata": {},
   "outputs": [],
   "source": [
    "class Point:\n",
    "    language='Python'\n",
    "    version='3.6'\n",
    "    #constructor\n",
    "    def __init__(self, x:int, y:int) -> tuple:\n",
    "        self.x = x\n",
    "        self.y = y\n",
    "    \n",
    "    def falls_in_rectangle(self, lower_point: tuple, upper_point: tuple) -> bool:\n",
    "        if lower_point[0] < self.x < upper_point[0] and lower_point[1] < self.y < upper_point[1]:\n",
    "            return True\n",
    "        else:\n",
    "            return False\n",
    "    def distance_from_point(self, x_coord: int, y_coord: int):\n",
    "        return ((x_coord-self.x)**2 + (y_coord-self.y)**2)**0.5\n",
    "        "
   ]
  },
  {
   "cell_type": "code",
   "execution_count": 2,
   "id": "bfce0296",
   "metadata": {},
   "outputs": [
    {
     "data": {
      "text/plain": [
       "'3.6'"
      ]
     },
     "execution_count": 2,
     "metadata": {},
     "output_type": "execute_result"
    }
   ],
   "source": [
    "Point.version"
   ]
  },
  {
   "cell_type": "code",
   "execution_count": 3,
   "id": "5831112d",
   "metadata": {},
   "outputs": [
    {
     "data": {
      "text/plain": [
       "mappingproxy({'__module__': '__main__',\n",
       "              'language': 'Python',\n",
       "              'version': '3.6',\n",
       "              '__init__': <function __main__.Point.__init__(self, x: int, y: int) -> tuple>,\n",
       "              'falls_in_rectangle': <function __main__.Point.falls_in_rectangle(self, lower_point: tuple, upper_point: tuple) -> bool>,\n",
       "              'distance_from_point': <function __main__.Point.distance_from_point(self, x_coord: int, y_coord: int)>,\n",
       "              '__dict__': <attribute '__dict__' of 'Point' objects>,\n",
       "              '__weakref__': <attribute '__weakref__' of 'Point' objects>,\n",
       "              '__doc__': None})"
      ]
     },
     "execution_count": 3,
     "metadata": {},
     "output_type": "execute_result"
    }
   ],
   "source": [
    "Point.__dict__"
   ]
  },
  {
   "cell_type": "code",
   "execution_count": 4,
   "id": "d8512c15",
   "metadata": {},
   "outputs": [
    {
     "data": {
      "text/plain": [
       "12.083045973594572"
      ]
     },
     "execution_count": 4,
     "metadata": {},
     "output_type": "execute_result"
    }
   ],
   "source": [
    "point1 = Point(10,20)\n",
    "point1.distance_from_point(5,9)"
   ]
  },
  {
   "cell_type": "code",
   "execution_count": 5,
   "id": "6ba0d794",
   "metadata": {},
   "outputs": [
    {
     "data": {
      "text/plain": [
       "type"
      ]
     },
     "execution_count": 5,
     "metadata": {},
     "output_type": "execute_result"
    }
   ],
   "source": [
    "type(Point)"
   ]
  },
  {
   "cell_type": "code",
   "execution_count": 6,
   "id": "85467e82",
   "metadata": {},
   "outputs": [
    {
     "data": {
      "text/plain": [
       "'Point'"
      ]
     },
     "execution_count": 6,
     "metadata": {},
     "output_type": "execute_result"
    }
   ],
   "source": [
    "Point.__name__"
   ]
  },
  {
   "cell_type": "code",
   "execution_count": 9,
   "id": "424501e6",
   "metadata": {},
   "outputs": [],
   "source": [
    "class Program:\n",
    "    language = 'python'\n",
    "    def say_hello():\n",
    "        print('Hello World')\n"
   ]
  },
  {
   "cell_type": "code",
   "execution_count": 12,
   "id": "e2e3d398",
   "metadata": {},
   "outputs": [
    {
     "data": {
      "text/plain": [
       "mappingproxy({'__module__': '__main__',\n",
       "              'language': 'python',\n",
       "              'say_hello': <function __main__.Program.say_hello()>,\n",
       "              '__dict__': <attribute '__dict__' of 'Program' objects>,\n",
       "              '__weakref__': <attribute '__weakref__' of 'Program' objects>,\n",
       "              '__doc__': None})"
      ]
     },
     "execution_count": 12,
     "metadata": {},
     "output_type": "execute_result"
    }
   ],
   "source": [
    "Program.__dict__"
   ]
  },
  {
   "cell_type": "code",
   "execution_count": 13,
   "id": "5e4e9b44",
   "metadata": {},
   "outputs": [
    {
     "data": {
      "text/plain": [
       "type"
      ]
     },
     "execution_count": 13,
     "metadata": {},
     "output_type": "execute_result"
    }
   ],
   "source": [
    "Program.__class__"
   ]
  },
  {
   "cell_type": "code",
   "execution_count": 14,
   "id": "8fcbc3b6",
   "metadata": {},
   "outputs": [],
   "source": [
    "class Person:\n",
    "    def hello(self):\n",
    "        pass"
   ]
  },
  {
   "cell_type": "code",
   "execution_count": 16,
   "id": "52c4b5cc",
   "metadata": {},
   "outputs": [
    {
     "data": {
      "text/plain": [
       "<function __main__.Person.hello(self)>"
      ]
     },
     "execution_count": 16,
     "metadata": {},
     "output_type": "execute_result"
    }
   ],
   "source": [
    "p = Person()\n",
    "p.hello.__func__"
   ]
  },
  {
   "cell_type": "code",
   "execution_count": 17,
   "id": "c669dab5",
   "metadata": {},
   "outputs": [
    {
     "data": {
      "text/plain": [
       "<__main__.Person at 0x159e4316c50>"
      ]
     },
     "execution_count": 17,
     "metadata": {},
     "output_type": "execute_result"
    }
   ],
   "source": [
    "p.hello.__self__"
   ]
  },
  {
   "cell_type": "code",
   "execution_count": null,
   "id": "2cfd9e9a",
   "metadata": {},
   "outputs": [],
   "source": []
  },
  {
   "cell_type": "code",
   "execution_count": null,
   "id": "b1839e14",
   "metadata": {},
   "outputs": [],
   "source": []
  },
  {
   "cell_type": "code",
   "execution_count": null,
   "id": "f3601ea6",
   "metadata": {},
   "outputs": [],
   "source": []
  },
  {
   "cell_type": "code",
   "execution_count": null,
   "id": "1cd44f6c",
   "metadata": {},
   "outputs": [],
   "source": []
  }
 ],
 "metadata": {
  "kernelspec": {
   "display_name": "base",
   "language": "python",
   "name": "python3"
  },
  "language_info": {
   "codemirror_mode": {
    "name": "ipython",
    "version": 3
   },
   "file_extension": ".py",
   "mimetype": "text/x-python",
   "name": "python",
   "nbconvert_exporter": "python",
   "pygments_lexer": "ipython3",
   "version": "3.10.14"
  }
 },
 "nbformat": 4,
 "nbformat_minor": 5
}
