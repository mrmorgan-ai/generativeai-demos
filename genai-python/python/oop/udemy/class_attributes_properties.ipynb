{
 "cells": [
  {
   "cell_type": "markdown",
   "id": "d0aeac11",
   "metadata": {},
   "source": [
    "# Define Properties\n",
    "Declare a property using decorators"
   ]
  },
  {
   "cell_type": "code",
   "execution_count": 1,
   "id": "29201ef2",
   "metadata": {},
   "outputs": [],
   "source": [
    "p = property(lambda self: print(\"getting properties ..\"))"
   ]
  },
  {
   "cell_type": "code",
   "execution_count": 2,
   "id": "82b855e5",
   "metadata": {},
   "outputs": [
    {
     "data": {
      "text/plain": [
       "mappingproxy({'__new__': <function property.__new__(*args, **kwargs)>,\n",
       "              '__getattribute__': <slot wrapper '__getattribute__' of 'property' objects>,\n",
       "              '__get__': <slot wrapper '__get__' of 'property' objects>,\n",
       "              '__set__': <slot wrapper '__set__' of 'property' objects>,\n",
       "              '__delete__': <slot wrapper '__delete__' of 'property' objects>,\n",
       "              '__init__': <slot wrapper '__init__' of 'property' objects>,\n",
       "              'getter': <method 'getter' of 'property' objects>,\n",
       "              'setter': <method 'setter' of 'property' objects>,\n",
       "              'deleter': <method 'deleter' of 'property' objects>,\n",
       "              '__set_name__': <method '__set_name__' of 'property' objects>,\n",
       "              'fget': <member 'fget' of 'property' objects>,\n",
       "              'fset': <member 'fset' of 'property' objects>,\n",
       "              'fdel': <member 'fdel' of 'property' objects>,\n",
       "              '__doc__': <member '__doc__' of 'property' objects>,\n",
       "              '__name__': <attribute '__name__' of 'property' objects>,\n",
       "              '__isabstractmethod__': <attribute '__isabstractmethod__' of 'property' objects>})"
      ]
     },
     "execution_count": 2,
     "metadata": {},
     "output_type": "execute_result"
    }
   ],
   "source": [
    "property.__dict__"
   ]
  },
  {
   "cell_type": "markdown",
   "id": "3ff84248",
   "metadata": {},
   "source": [
    "## Defining a decorator"
   ]
  },
  {
   "cell_type": "code",
   "execution_count": 3,
   "id": "e28c6f29",
   "metadata": {},
   "outputs": [],
   "source": [
    "def my_decorator(fn):\n",
    "    print(\"decorating function\")\n",
    "    def wrapper(*args, **kwargs):\n",
    "        print(\"running decorated function\")\n",
    "        return fn(*args, **kwargs)\n",
    "    return wrapper    "
   ]
  },
  {
   "cell_type": "code",
   "execution_count": 4,
   "id": "873e9bf5",
   "metadata": {},
   "outputs": [
    {
     "name": "stdout",
     "output_type": "stream",
     "text": [
      "original function\n"
     ]
    },
    {
     "data": {
      "text/plain": [
       "5"
      ]
     },
     "execution_count": 4,
     "metadata": {},
     "output_type": "execute_result"
    }
   ],
   "source": [
    "def func(a,b):\n",
    "    print(\"original function\")\n",
    "    return a+b\n",
    "\n",
    "func(2,3)"
   ]
  },
  {
   "cell_type": "code",
   "execution_count": 10,
   "id": "462a7536",
   "metadata": {},
   "outputs": [
    {
     "name": "stdout",
     "output_type": "stream",
     "text": [
      "decorating function\n",
      "running decorated function\n",
      "original function\n"
     ]
    },
    {
     "data": {
      "text/plain": [
       "5"
      ]
     },
     "execution_count": 10,
     "metadata": {},
     "output_type": "execute_result"
    }
   ],
   "source": [
    "@my_decorator\n",
    "def func(a,b):\n",
    "    print(\"original function\")\n",
    "    return a+b\n",
    "\n",
    "func(2,3)\n"
   ]
  },
  {
   "cell_type": "markdown",
   "id": "a4d42442",
   "metadata": {},
   "source": [
    "# Property Decorators"
   ]
  },
  {
   "cell_type": "code",
   "execution_count": 7,
   "id": "daf11804",
   "metadata": {},
   "outputs": [],
   "source": [
    "class Person():\n",
    "    def __init__(self, name):\n",
    "        self._name = name\n",
    "        \n",
    "    @property\n",
    "    def name(self):\n",
    "        print('Getter called ...')\n",
    "        return self._name\n",
    "    \n",
    "    @name.setter\n",
    "    def name(self, value):\n",
    "        print('Setter called ..')\n",
    "        self._name = value\n",
    "        return self._name"
   ]
  },
  {
   "cell_type": "code",
   "execution_count": 8,
   "id": "c0bd4023",
   "metadata": {},
   "outputs": [
    {
     "name": "stdout",
     "output_type": "stream",
     "text": [
      "Getter called ...\n"
     ]
    },
    {
     "data": {
      "text/plain": [
       "'Soledad'"
      ]
     },
     "execution_count": 8,
     "metadata": {},
     "output_type": "execute_result"
    }
   ],
   "source": [
    "p = Person('Soledad')\n",
    "p.name"
   ]
  },
  {
   "cell_type": "code",
   "execution_count": 9,
   "id": "cd4b429a",
   "metadata": {},
   "outputs": [
    {
     "name": "stdout",
     "output_type": "stream",
     "text": [
      "Setter called ..\n"
     ]
    }
   ],
   "source": [
    "p.name = 'Jhonatan'"
   ]
  },
  {
   "cell_type": "code",
   "execution_count": 10,
   "id": "1ba556c0",
   "metadata": {},
   "outputs": [
    {
     "name": "stdout",
     "output_type": "stream",
     "text": [
      "Getter called ...\n"
     ]
    },
    {
     "data": {
      "text/plain": [
       "'Jhonatan'"
      ]
     },
     "execution_count": 10,
     "metadata": {},
     "output_type": "execute_result"
    }
   ],
   "source": [
    "p.name"
   ]
  },
  {
   "cell_type": "code",
   "execution_count": 12,
   "id": "6b59a24e",
   "metadata": {},
   "outputs": [
    {
     "data": {
      "text/plain": [
       "mappingproxy({'__module__': '__main__',\n",
       "              '__firstlineno__': 1,\n",
       "              '__init__': <function __main__.Person.__init__(self, name)>,\n",
       "              'name': <property at 0x260256c7d80>,\n",
       "              '__static_attributes__': ('_name',),\n",
       "              '__dict__': <attribute '__dict__' of 'Person' objects>,\n",
       "              '__weakref__': <attribute '__weakref__' of 'Person' objects>,\n",
       "              '__doc__': None})"
      ]
     },
     "execution_count": 12,
     "metadata": {},
     "output_type": "execute_result"
    }
   ],
   "source": [
    "Person.__dict__"
   ]
  },
  {
   "cell_type": "markdown",
   "id": "75bfd628",
   "metadata": {},
   "source": [
    "# Computed Properties"
   ]
  },
  {
   "cell_type": "code",
   "execution_count": 38,
   "id": "5e7e35ef",
   "metadata": {},
   "outputs": [],
   "source": [
    "from math import pi\n",
    "class Circle():\n",
    "    def __init__(self, radius):\n",
    "        self._radius = radius\n",
    "        # For lazy evaluation\n",
    "        # Indicates ares must be calculated\n",
    "        self._area = None\n",
    "        \n",
    "    @property\n",
    "    def radius(self):\n",
    "        return self._radius\n",
    "    \n",
    "    @radius.setter\n",
    "    def radius(self, value):\n",
    "        print(\"Setting radius ...\")\n",
    "        self._area = None\n",
    "        self._radius = value\n",
    "    \n",
    "    def area(self):\n",
    "        if self._area is None:\n",
    "          print('Calculating area ...')\n",
    "          self._area = pi*(self._radius**2)\n",
    "        \n",
    "        return self._area"
   ]
  },
  {
   "cell_type": "code",
   "execution_count": 39,
   "id": "6d817948",
   "metadata": {},
   "outputs": [
    {
     "name": "stdout",
     "output_type": "stream",
     "text": [
      "Calculating area ...\n"
     ]
    },
    {
     "data": {
      "text/plain": [
       "3.141592653589793"
      ]
     },
     "execution_count": 39,
     "metadata": {},
     "output_type": "execute_result"
    }
   ],
   "source": [
    "c = Circle(1)\n",
    "c.area()"
   ]
  },
  {
   "cell_type": "code",
   "execution_count": 40,
   "id": "82f02299",
   "metadata": {},
   "outputs": [
    {
     "name": "stdout",
     "output_type": "stream",
     "text": [
      "Setting radius ...\n"
     ]
    }
   ],
   "source": [
    "c.radius = 2"
   ]
  },
  {
   "cell_type": "code",
   "execution_count": 41,
   "id": "3c04e9b2",
   "metadata": {},
   "outputs": [
    {
     "name": "stdout",
     "output_type": "stream",
     "text": [
      "Calculating area ...\n"
     ]
    },
    {
     "data": {
      "text/plain": [
       "12.566370614359172"
      ]
     },
     "execution_count": 41,
     "metadata": {},
     "output_type": "execute_result"
    }
   ],
   "source": [
    "c.area()"
   ]
  },
  {
   "cell_type": "code",
   "execution_count": 42,
   "id": "30df710c",
   "metadata": {},
   "outputs": [
    {
     "data": {
      "text/plain": [
       "12.566370614359172"
      ]
     },
     "execution_count": 42,
     "metadata": {},
     "output_type": "execute_result"
    }
   ],
   "source": [
    "c.area()"
   ]
  },
  {
   "cell_type": "code",
   "execution_count": 45,
   "id": "98d3f050",
   "metadata": {},
   "outputs": [],
   "source": [
    "import urllib.request\n",
    "from time import perf_counter\n",
    "\n",
    "class WebPage():\n",
    "    def __init__(self, url):\n",
    "        self._url = url\n",
    "        self._page = None\n",
    "        self._load_time_secs = None\n",
    "        self._page_size = None\n",
    "        \n",
    "    @property\n",
    "    def url(self):\n",
    "        return self._url\n",
    "    \n",
    "    @url.setter\n",
    "    def url(self, value):\n",
    "        self._url = value\n",
    "        # declare the _page none to iniciate load of a new page\n",
    "        self._page = None\n",
    "        \n",
    "    @property\n",
    "    def page(self):\n",
    "        # cache of page\n",
    "        if self._page is None:\n",
    "            self.download_page()\n",
    "        # return whatever value of page is\n",
    "        return self._page\n",
    "    \n",
    "    @property\n",
    "    def page_size(self):\n",
    "        if self._page is None:\n",
    "            self.download_page()\n",
    "        return self._page_size\n",
    "    \n",
    "    @property\n",
    "    def time_elapsed(self):\n",
    "        if self._page is None:\n",
    "            self.download_page()\n",
    "        \n",
    "        return self._load_time_secs\n",
    "    \n",
    "    # if u use _ before name, it declares a private method\n",
    "    def download_page(self):\n",
    "        # clear all property values\n",
    "        self._page_size = None\n",
    "        self._load_time_secs = None\n",
    "        \n",
    "        start_time = perf_counter()\n",
    "        with urllib.request.urlopen(self.url) as f:\n",
    "            self._page = f.read()\n",
    "            \n",
    "        end_time = perf_counter()\n",
    "        \n",
    "        self._page_size = len(self._page)\n",
    "        self._load_time_secs = end_time - start_time\n",
    "              \n",
    "            "
   ]
  },
  {
   "cell_type": "code",
   "execution_count": 49,
   "id": "84b2a410",
   "metadata": {},
   "outputs": [],
   "source": [
    "urls = [\n",
    "    'https://www.youtube.com/',\n",
    "    'https://lovable.dev/',\n",
    "    'https://www.ccb.org.co/'\n",
    "]"
   ]
  },
  {
   "cell_type": "code",
   "execution_count": 51,
   "id": "a2357e74",
   "metadata": {},
   "outputs": [
    {
     "name": "stdout",
     "output_type": "stream",
     "text": [
      "https://www.youtube.com/\tsize=665_277\telapsed=0.28 secs\n",
      "https://lovable.dev/\tsize=163_490\telapsed=0.89 secs\n",
      "https://www.ccb.org.co/\tsize=204_774\telapsed=0.21 secs\n"
     ]
    }
   ],
   "source": [
    "for url in urls:\n",
    "    # pretty fast because of lazy operations\n",
    "    page = WebPage(url)\n",
    "    print(f'{url}\\tsize={format(page.page_size, \"_\")}\\telapsed={page.time_elapsed:.2f} secs')"
   ]
  },
  {
   "cell_type": "markdown",
   "id": "aaa205f7",
   "metadata": {},
   "source": [
    "# Deleting Properties"
   ]
  },
  {
   "cell_type": "code",
   "execution_count": 2,
   "id": "a5c99678",
   "metadata": {},
   "outputs": [],
   "source": [
    "class Person():\n",
    "    def __init__(self, name):\n",
    "        self._name = name\n",
    "        \n",
    "    @property\n",
    "    def name(self):\n",
    "        print('Getter called ...')\n",
    "        return self._name\n",
    "    \n",
    "    @name.setter\n",
    "    def name(self, value):\n",
    "        print('Setter called ..')\n",
    "        self._name = value\n",
    "        return self._name\n",
    "    \n",
    "    @name.deleter\n",
    "    def name(self):\n",
    "        print('deletter...')\n",
    "        del self._name"
   ]
  },
  {
   "cell_type": "code",
   "execution_count": 4,
   "id": "8866a5db",
   "metadata": {},
   "outputs": [],
   "source": [
    "p = Person('Rebeca')"
   ]
  },
  {
   "cell_type": "code",
   "execution_count": null,
   "id": "6160ded2",
   "metadata": {},
   "outputs": [
    {
     "name": "stdout",
     "output_type": "stream",
     "text": [
      "deletter...\n"
     ]
    },
    {
     "ename": "",
     "evalue": "",
     "output_type": "error",
     "traceback": [
      "\u001b[1;31mThe Kernel crashed while executing code in the current cell or a previous cell. \n",
      "\u001b[1;31mPlease review the code in the cell(s) to identify a possible cause of the failure. \n",
      "\u001b[1;31mClick <a href='https://aka.ms/vscodeJupyterKernelCrash'>here</a> for more info. \n",
      "\u001b[1;31mView Jupyter <a href='command:jupyter.viewOutput'>log</a> for further details."
     ]
    }
   ],
   "source": [
    "del p.name"
   ]
  }
 ],
 "metadata": {
  "kernelspec": {
   "display_name": "gen-ai (3.13.3)",
   "language": "python",
   "name": "python3"
  },
  "language_info": {
   "codemirror_mode": {
    "name": "ipython",
    "version": 3
   },
   "file_extension": ".py",
   "mimetype": "text/x-python",
   "name": "python",
   "nbconvert_exporter": "python",
   "pygments_lexer": "ipython3",
   "version": "3.13.3"
  }
 },
 "nbformat": 4,
 "nbformat_minor": 5
}
