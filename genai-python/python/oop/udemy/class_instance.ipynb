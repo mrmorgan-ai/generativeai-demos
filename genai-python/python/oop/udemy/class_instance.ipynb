{
 "cells": [
  {
   "cell_type": "code",
   "execution_count": 1,
   "id": "3639d430",
   "metadata": {},
   "outputs": [],
   "source": [
    "from types import MethodType"
   ]
  },
  {
   "cell_type": "code",
   "execution_count": 2,
   "id": "c89597a5",
   "metadata": {},
   "outputs": [],
   "source": [
    "class Person:\n",
    "    def __init__(self):\n",
    "        print(f\"Initializing a new Person object: {self}\")"
   ]
  },
  {
   "cell_type": "code",
   "execution_count": 2,
   "id": "b662bc2d",
   "metadata": {},
   "outputs": [
    {
     "name": "stdout",
     "output_type": "stream",
     "text": [
      "Initializing a new Person object: <__main__.Person object at 0x0000024DE6A98B50>\n"
     ]
    }
   ],
   "source": [
    "p = Person()"
   ]
  },
  {
   "cell_type": "code",
   "execution_count": 7,
   "id": "55446892",
   "metadata": {},
   "outputs": [],
   "source": [
    "class Person:\n",
    "  def __init__(self, name):\n",
    "    self.set_name(name) #explor set_name function\n",
    "  def get_name(self):\n",
    "    return self._name\n",
    "  def set_name(self, value):\n",
    "    if isinstance(value,str) and len(value.strip()) > 0:\n",
    "      self._name = value.strip()\n",
    "    else:\n",
    "      raise ValueError('Must be a non-empty string')\n"
   ]
  },
  {
   "cell_type": "code",
   "execution_count": 9,
   "id": "a946c2a2",
   "metadata": {},
   "outputs": [
    {
     "data": {
      "text/plain": [
       "'Alex'"
      ]
     },
     "execution_count": 9,
     "metadata": {},
     "output_type": "execute_result"
    }
   ],
   "source": [
    "p = Person('Alex')\n",
    "p.get_name()"
   ]
  },
  {
   "cell_type": "code",
   "execution_count": 13,
   "id": "aef22aa0",
   "metadata": {},
   "outputs": [
    {
     "data": {
      "text/plain": [
       "'Pedro'"
      ]
     },
     "execution_count": 13,
     "metadata": {},
     "output_type": "execute_result"
    }
   ],
   "source": [
    "p.set_name('Pedro')\n",
    "p.get_name()"
   ]
  },
  {
   "cell_type": "code",
   "execution_count": 15,
   "id": "836bffb3",
   "metadata": {},
   "outputs": [
    {
     "data": {
      "text/plain": [
       "{'_name': 'Pedro'}"
      ]
     },
     "execution_count": 15,
     "metadata": {},
     "output_type": "execute_result"
    }
   ],
   "source": [
    "p.__dict__"
   ]
  },
  {
   "cell_type": "code",
   "execution_count": null,
   "id": "de142ba2",
   "metadata": {},
   "outputs": [],
   "source": []
  },
  {
   "cell_type": "code",
   "execution_count": null,
   "id": "e6589732",
   "metadata": {},
   "outputs": [],
   "source": []
  },
  {
   "cell_type": "code",
   "execution_count": null,
   "id": "112cd0c2",
   "metadata": {},
   "outputs": [],
   "source": []
  }
 ],
 "metadata": {
  "kernelspec": {
   "display_name": "3.11.9",
   "language": "python",
   "name": "python3"
  },
  "language_info": {
   "codemirror_mode": {
    "name": "ipython",
    "version": 3
   },
   "file_extension": ".py",
   "mimetype": "text/x-python",
   "name": "python",
   "nbconvert_exporter": "python",
   "pygments_lexer": "ipython3",
   "version": "3.11.9"
  }
 },
 "nbformat": 4,
 "nbformat_minor": 5
}
