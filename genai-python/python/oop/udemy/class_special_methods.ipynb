{
 "cells": [
  {
   "cell_type": "markdown",
   "id": "a05af21c",
   "metadata": {},
   "source": [
    "# `__str__` and `__repr__`"
   ]
  },
  {
   "cell_type": "code",
   "execution_count": null,
   "id": "db4b7b84",
   "metadata": {},
   "outputs": [],
   "source": [
    "class Person:\n",
    "    def __init__(self, name, age):\n",
    "        self.name = name\n",
    "        self.age = age\n",
    "        \n",
    "    def __repr__(self):\n",
    "        print('__repr__ called')\n",
    "        return f\"Person(name='{self.name}', age={self.age})\"\n",
    "    \n",
    "    def __str__(self):\n",
    "        print('__str__ called')\n",
    "        return self.name"
   ]
  },
  {
   "cell_type": "code",
   "execution_count": 15,
   "id": "5bdec709",
   "metadata": {},
   "outputs": [],
   "source": [
    "p = Person('Python', 30)"
   ]
  },
  {
   "cell_type": "code",
   "execution_count": 16,
   "id": "c8272641",
   "metadata": {},
   "outputs": [
    {
     "name": "stdout",
     "output_type": "stream",
     "text": [
      "__repr__ called\n"
     ]
    },
    {
     "data": {
      "text/plain": [
       "Person(name='Python', age=30)"
      ]
     },
     "execution_count": 16,
     "metadata": {},
     "output_type": "execute_result"
    }
   ],
   "source": [
    "p"
   ]
  },
  {
   "cell_type": "code",
   "execution_count": 17,
   "id": "44f240fb",
   "metadata": {},
   "outputs": [
    {
     "name": "stdout",
     "output_type": "stream",
     "text": [
      "__repr__ called\n"
     ]
    },
    {
     "data": {
      "text/plain": [
       "\"Person(name='Python', age=30)\""
      ]
     },
     "execution_count": 17,
     "metadata": {},
     "output_type": "execute_result"
    }
   ],
   "source": [
    "str(p)"
   ]
  },
  {
   "cell_type": "code",
   "execution_count": 18,
   "id": "42b2dfc7",
   "metadata": {},
   "outputs": [
    {
     "name": "stdout",
     "output_type": "stream",
     "text": [
      "__repr__ called\n",
      "Person(name='Python', age=30)\n"
     ]
    }
   ],
   "source": [
    "print(p)"
   ]
  },
  {
   "cell_type": "markdown",
   "id": "05bb87bf",
   "metadata": {},
   "source": [
    "# No str or repr method added"
   ]
  },
  {
   "cell_type": "code",
   "execution_count": 22,
   "id": "6f9908ca",
   "metadata": {},
   "outputs": [],
   "source": [
    "class Person:\n",
    "    pass\n",
    "\n",
    "class Point:\n",
    "    pass"
   ]
  },
  {
   "cell_type": "code",
   "execution_count": 23,
   "id": "bd427351",
   "metadata": {},
   "outputs": [],
   "source": [
    "person = Person()\n",
    "point = Point()"
   ]
  },
  {
   "cell_type": "code",
   "execution_count": 25,
   "id": "213e05fa",
   "metadata": {},
   "outputs": [
    {
     "data": {
      "text/plain": [
       "('<__main__.Person object at 0x0000028BAA540210>',\n",
       " '<__main__.Point object at 0x0000028BAA4DFBD0>')"
      ]
     },
     "execution_count": 25,
     "metadata": {},
     "output_type": "execute_result"
    }
   ],
   "source": [
    "repr(person), repr(point)"
   ]
  },
  {
   "cell_type": "code",
   "execution_count": 26,
   "id": "1679ea7b",
   "metadata": {},
   "outputs": [],
   "source": [
    "class Person:\n",
    "    def __init__(self, name, age):\n",
    "        self.name = name\n",
    "        self.age = age\n",
    "        \n",
    "    # def __repr__(self):\n",
    "    #     print('__repr__ called')\n",
    "    #     return f\"Person(name='{self.name}', age={self.age})\"\n",
    "    \n",
    "    def __str__(self):\n",
    "        print('__str__ called')\n",
    "        return self.name"
   ]
  },
  {
   "cell_type": "code",
   "execution_count": 28,
   "id": "7892ffcb",
   "metadata": {},
   "outputs": [],
   "source": [
    "p = Person('Jhonatan', 30)"
   ]
  },
  {
   "cell_type": "code",
   "execution_count": 29,
   "id": "66fe7635",
   "metadata": {},
   "outputs": [
    {
     "data": {
      "text/plain": [
       "<__main__.Person at 0x28bab97e610>"
      ]
     },
     "execution_count": 29,
     "metadata": {},
     "output_type": "execute_result"
    }
   ],
   "source": [
    "p"
   ]
  },
  {
   "cell_type": "code",
   "execution_count": 30,
   "id": "3ad844f6",
   "metadata": {},
   "outputs": [
    {
     "name": "stdout",
     "output_type": "stream",
     "text": [
      "__str__ called\n",
      "Jhonatan\n"
     ]
    }
   ],
   "source": [
    "print(p)"
   ]
  },
  {
   "cell_type": "code",
   "execution_count": 31,
   "id": "9bbd40b0",
   "metadata": {},
   "outputs": [
    {
     "name": "stdout",
     "output_type": "stream",
     "text": [
      "__str__ called\n"
     ]
    },
    {
     "data": {
      "text/plain": [
       "'This person is Jhonatan'"
      ]
     },
     "execution_count": 31,
     "metadata": {},
     "output_type": "execute_result"
    }
   ],
   "source": [
    "f'This person is {p}'"
   ]
  },
  {
   "cell_type": "code",
   "execution_count": 33,
   "id": "e7af9a8c",
   "metadata": {},
   "outputs": [
    {
     "name": "stdout",
     "output_type": "stream",
     "text": [
      "__str__ called\n"
     ]
    },
    {
     "data": {
      "text/plain": [
       "'This person is Jhonatan'"
      ]
     },
     "execution_count": 33,
     "metadata": {},
     "output_type": "execute_result"
    }
   ],
   "source": [
    "'This person is {}'.format(p)"
   ]
  },
  {
   "cell_type": "markdown",
   "id": "d378f61f",
   "metadata": {},
   "source": [
    "# Arithmetic Operators"
   ]
  },
  {
   "cell_type": "code",
   "execution_count": 36,
   "id": "8755868c",
   "metadata": {},
   "outputs": [],
   "source": [
    "from numbers import Real"
   ]
  },
  {
   "cell_type": "code",
   "execution_count": 44,
   "id": "f541e07b",
   "metadata": {},
   "outputs": [],
   "source": [
    "class Vector:\n",
    "    def __init__(self, *components):\n",
    "        if len(components) < 1:\n",
    "            raise ValueError('Cannot create an empty Vector')\n",
    "        \n",
    "        for component in components:\n",
    "            if not isinstance(component, Real):\n",
    "                raise ValueError(f'Vector components must all be real numbers. {component} is invalid')\n",
    "        # Just to make sure and be explicit that components should be a tuple    \n",
    "        self._components = tuple(components)\n",
    "        \n",
    "    def __len__(self):\n",
    "        return len(self._components)\n",
    "     \n",
    "    @property\n",
    "    def components(self):\n",
    "        return self._components\n",
    "     \n",
    "    def __repr__(self):\n",
    "        return f'Vector{self.components}'"
   ]
  },
  {
   "cell_type": "code",
   "execution_count": 45,
   "id": "e99886e6",
   "metadata": {},
   "outputs": [],
   "source": [
    "v1 = Vector(1,2)\n",
    "v2 = Vector(10,20,30,40)"
   ]
  },
  {
   "cell_type": "code",
   "execution_count": 46,
   "id": "6221a7e5",
   "metadata": {},
   "outputs": [
    {
     "data": {
      "text/plain": [
       "(2, 4)"
      ]
     },
     "execution_count": 46,
     "metadata": {},
     "output_type": "execute_result"
    }
   ],
   "source": [
    "len(v1), len(v2)"
   ]
  },
  {
   "cell_type": "code",
   "execution_count": 47,
   "id": "b02ea28c",
   "metadata": {},
   "outputs": [
    {
     "data": {
      "text/plain": [
       "(Vector(1, 2), Vector(10, 20, 30, 40))"
      ]
     },
     "execution_count": 47,
     "metadata": {},
     "output_type": "execute_result"
    }
   ],
   "source": [
    "v1, v2"
   ]
  },
  {
   "cell_type": "code",
   "execution_count": 48,
   "id": "02556716",
   "metadata": {},
   "outputs": [
    {
     "data": {
      "text/plain": [
       "'Vector(1, 2)'"
      ]
     },
     "execution_count": 48,
     "metadata": {},
     "output_type": "execute_result"
    }
   ],
   "source": [
    "str(v1)"
   ]
  },
  {
   "cell_type": "code",
   "execution_count": 63,
   "id": "00149010",
   "metadata": {},
   "outputs": [],
   "source": [
    "class VectorDimensionMismatch(TypeError):\n",
    "    pass\n",
    "\n",
    "class Vector:\n",
    "    def __init__(self, *components):\n",
    "        if len(components) < 1:\n",
    "            raise ValueError('Cannot create an empty Vector')\n",
    "        \n",
    "        for component in components:\n",
    "            if not isinstance(component, Real):\n",
    "                raise ValueError(f'Vector components must all be real numbers. {component} is invalid')\n",
    "        # Just to make sure and be explicit that components should be a tuple    \n",
    "        self._components = tuple(components)\n",
    "        \n",
    "    def __len__(self):\n",
    "        return len(self._components)\n",
    "     \n",
    "    @property\n",
    "    def components(self):\n",
    "        return self._components\n",
    "     \n",
    "    def __repr__(self):\n",
    "        return f'Vector{self.components}'\n",
    "    \n",
    "    \"\"\"\n",
    "    This method will be required in other ones because validate the type and dimension of operands\n",
    "    Can consider this method as StaticMethod or could be outside in othe rfunction of class\n",
    "    Depends on you how to handle this process\n",
    "    \"\"\"\n",
    "    def validate_type_and_dimension(self, v):\n",
    "        return isinstance(v, Vector) and len(v) == len(self)\n",
    "    \n",
    "    def __add__(self, other):\n",
    "        if not self.validate_type_and_dimension(other):\n",
    "            raise VectorDimensionMismatch('Vectors must be the same dimension')\n",
    "        \n",
    "        components = (x + y for x,y in zip(self.components, other.components))\n",
    "        return Vector(*components)\n",
    "    \n",
    "    def __sub__(self, other):\n",
    "        if not self.validate_type_and_dimension(other):\n",
    "            raise VectorDimensionMismatch('Vectors must be the same dimension')\n",
    "        \n",
    "        components = (x - y for x,y in zip(self.components, other.components))\n",
    "        return Vector(*components)\n",
    "        "
   ]
  },
  {
   "cell_type": "code",
   "execution_count": 64,
   "id": "29554e83",
   "metadata": {},
   "outputs": [],
   "source": [
    "v1 = Vector(1,2)\n",
    "v2 = Vector(10,10)\n",
    "v3 = Vector(1,2,3,4)"
   ]
  },
  {
   "cell_type": "code",
   "execution_count": 65,
   "id": "f8d8d338",
   "metadata": {},
   "outputs": [
    {
     "data": {
      "text/plain": [
       "Vector(11, 12)"
      ]
     },
     "execution_count": 65,
     "metadata": {},
     "output_type": "execute_result"
    }
   ],
   "source": [
    "v1 + v2"
   ]
  },
  {
   "cell_type": "code",
   "execution_count": 66,
   "id": "8e40542b",
   "metadata": {},
   "outputs": [
    {
     "data": {
      "text/plain": [
       "Vector(11, 12)"
      ]
     },
     "execution_count": 66,
     "metadata": {},
     "output_type": "execute_result"
    }
   ],
   "source": [
    "v2+v1"
   ]
  },
  {
   "cell_type": "code",
   "execution_count": 67,
   "id": "4ccf7b1e",
   "metadata": {},
   "outputs": [
    {
     "ename": "VectorDimensionMismatch",
     "evalue": "Vectors must be the same dimension",
     "output_type": "error",
     "traceback": [
      "\u001b[31m---------------------------------------------------------------------------\u001b[39m",
      "\u001b[31mVectorDimensionMismatch\u001b[39m                   Traceback (most recent call last)",
      "\u001b[36mCell\u001b[39m\u001b[36m \u001b[39m\u001b[32mIn[67]\u001b[39m\u001b[32m, line 1\u001b[39m\n\u001b[32m----> \u001b[39m\u001b[32m1\u001b[39m \u001b[43mv1\u001b[49m\u001b[43m+\u001b[49m\u001b[43mv3\u001b[49m\n",
      "\u001b[36mCell\u001b[39m\u001b[36m \u001b[39m\u001b[32mIn[63]\u001b[39m\u001b[32m, line 35\u001b[39m, in \u001b[36mVector.__add__\u001b[39m\u001b[34m(self, other)\u001b[39m\n\u001b[32m     33\u001b[39m \u001b[38;5;28;01mdef\u001b[39;00m\u001b[38;5;250m \u001b[39m\u001b[34m__add__\u001b[39m(\u001b[38;5;28mself\u001b[39m, other):\n\u001b[32m     34\u001b[39m     \u001b[38;5;28;01mif\u001b[39;00m \u001b[38;5;129;01mnot\u001b[39;00m \u001b[38;5;28mself\u001b[39m.validate_type_and_dimension(other):\n\u001b[32m---> \u001b[39m\u001b[32m35\u001b[39m         \u001b[38;5;28;01mraise\u001b[39;00m VectorDimensionMismatch(\u001b[33m'\u001b[39m\u001b[33mVectors must be the same dimension\u001b[39m\u001b[33m'\u001b[39m)\n\u001b[32m     37\u001b[39m     components = (x + y \u001b[38;5;28;01mfor\u001b[39;00m x,y \u001b[38;5;129;01min\u001b[39;00m \u001b[38;5;28mzip\u001b[39m(\u001b[38;5;28mself\u001b[39m.components, other.components))\n\u001b[32m     38\u001b[39m     \u001b[38;5;28;01mreturn\u001b[39;00m Vector(*components)\n",
      "\u001b[31mVectorDimensionMismatch\u001b[39m: Vectors must be the same dimension"
     ]
    }
   ],
   "source": [
    "v1+v3"
   ]
  },
  {
   "cell_type": "markdown",
   "id": "3ee1d9d3",
   "metadata": {},
   "source": [
    "# Rich Methods"
   ]
  },
  {
   "cell_type": "code",
   "execution_count": null,
   "id": "015dbc31",
   "metadata": {},
   "outputs": [],
   "source": [
    "class Vector:\n",
    "    def __init__(self, x, y):\n",
    "        self.x = x\n",
    "        self.y = y\n",
    "        \n",
    "    def "
   ]
  },
  {
   "cell_type": "markdown",
   "id": "5619fc92",
   "metadata": {},
   "source": [
    "# Hash and Equiality"
   ]
  },
  {
   "cell_type": "code",
   "execution_count": 1,
   "id": "e7e33559",
   "metadata": {},
   "outputs": [],
   "source": [
    "class Person:\n",
    "    def __init__(self, name):\n",
    "        self.name = name\n",
    "        \n",
    "    def __eq__(self, other):\n",
    "        return isinstance(other, Person) and self.name == other.name\n",
    "    \n",
    "    def __repr__(self):\n",
    "        return f\"Person(name)'{self.name}'\""
   ]
  },
  {
   "cell_type": "code",
   "execution_count": 5,
   "id": "7e99d37c",
   "metadata": {},
   "outputs": [],
   "source": [
    "p1 = Person(\"jhon\")\n",
    "p2 = Person(\"jhon\")\n",
    "p3 = Person(\"nero\")"
   ]
  },
  {
   "cell_type": "code",
   "execution_count": 8,
   "id": "05aa4dd2",
   "metadata": {},
   "outputs": [],
   "source": [
    "p1.__hash__"
   ]
  },
  {
   "cell_type": "code",
   "execution_count": null,
   "id": "bfc88fb6",
   "metadata": {},
   "outputs": [],
   "source": [
    "class Person:\n",
    "    def __init__(self, name):\n",
    "        self._name = name # sudo private\n",
    "        \n",
    "    @property\n",
    "    def name(self):\n",
    "        return self._name\n",
    "        \n",
    "    def __eq__(self, other):\n",
    "        return isinstance(other, Person) and self.name == other.name\n",
    "    \n",
    "    def __hash__(self):\n",
    "        return hash(self.name)\n",
    "    \n",
    "    def __repr__(self):\n",
    "        return f\"Person(name)'{self.name}'\""
   ]
  },
  {
   "cell_type": "markdown",
   "id": "4f7f3cc4",
   "metadata": {},
   "source": [
    "# Booleanss"
   ]
  },
  {
   "cell_type": "code",
   "execution_count": 9,
   "id": "82cca27f",
   "metadata": {},
   "outputs": [],
   "source": [
    "class Person:\n",
    "    pass"
   ]
  },
  {
   "cell_type": "code",
   "execution_count": 10,
   "id": "a1f55ffb",
   "metadata": {},
   "outputs": [],
   "source": [
    "p = Person()"
   ]
  },
  {
   "cell_type": "code",
   "execution_count": 11,
   "id": "55c50d7e",
   "metadata": {},
   "outputs": [
    {
     "data": {
      "text/plain": [
       "True"
      ]
     },
     "execution_count": 11,
     "metadata": {},
     "output_type": "execute_result"
    }
   ],
   "source": [
    "bool(p)"
   ]
  },
  {
   "cell_type": "code",
   "execution_count": null,
   "id": "b7675ad5",
   "metadata": {},
   "outputs": [],
   "source": [
    "class MyList:\n",
    "    def __init__(self, lenght):\n",
    "        self._lenght = lenght\n",
    "        \n",
    "    def __len__(self):\n",
    "        print(\"__len__ called ...\")\n",
    "        return self._lenght"
   ]
  },
  {
   "cell_type": "code",
   "execution_count": null,
   "id": "74ea2f87",
   "metadata": {},
   "outputs": [],
   "source": []
  },
  {
   "cell_type": "code",
   "execution_count": null,
   "id": "c4600c4a",
   "metadata": {},
   "outputs": [],
   "source": []
  },
  {
   "cell_type": "code",
   "execution_count": null,
   "id": "26015b99",
   "metadata": {},
   "outputs": [],
   "source": []
  }
 ],
 "metadata": {
  "kernelspec": {
   "display_name": "eb-recsys-overview-workshop (3.11.12)",
   "language": "python",
   "name": "python3"
  },
  "language_info": {
   "codemirror_mode": {
    "name": "ipython",
    "version": 3
   },
   "file_extension": ".py",
   "mimetype": "text/x-python",
   "name": "python",
   "nbconvert_exporter": "python",
   "pygments_lexer": "ipython3",
   "version": "3.11.12"
  }
 },
 "nbformat": 4,
 "nbformat_minor": 5
}
