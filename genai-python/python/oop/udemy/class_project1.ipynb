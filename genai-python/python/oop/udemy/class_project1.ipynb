{
 "cells": [
  {
   "cell_type": "code",
   "execution_count": 1,
   "id": "34c8483f",
   "metadata": {},
   "outputs": [],
   "source": [
    "from random import randint"
   ]
  },
  {
   "cell_type": "code",
   "execution_count": null,
   "id": "bc502fff",
   "metadata": {},
   "outputs": [],
   "source": [
    "class BankAccount():\n",
    "    def __init__(self,first_name, last_name, preferred_timezone_offset,):\n",
    "        self.account_numer = randint(100,999)\n",
    "        self.first_name = first_name\n",
    "        self.last_name = last_name\n",
    "        self.preferred_timezone_offset = preferred_timezone_offset\n",
    "        self.set_balances(balances) # type: ignore\n",
    "        \n",
    "        \n",
    "        def get_balances(self):\n",
    "            return self._balances\n",
    "        \n",
    "        def set_balances(self):\n",
    "            raise ValueError('Value can not be modified manually')\n",
    "        \n",
    "        balances = property(fget=get_balances, fset=set_balances)\n",
    "        \n",
    "        def deposits(self, deposit_value):\n",
    "            if deposit_value > 0:\n",
    "                self._balance += deposit_value\n",
    "            else:\n",
    "                raise ValueError('Deposit value should be more than 0')\n",
    "        \n",
    "        def withdrawals(self, withdrawl_value):\n",
    "            if (self._balance - withdrawals) >= 0:\n",
    "                self._balance -= withdrawl_value\n",
    "            else:\n",
    "                raise ValueError('Your withdrawal exceed your balance')\n",
    "        "
   ]
  },
  {
   "cell_type": "code",
   "execution_count": 18,
   "id": "0eaf2d9d",
   "metadata": {},
   "outputs": [
    {
     "ename": "AttributeError",
     "evalue": "'BankAccount' object has no attribute 'set_balances'",
     "output_type": "error",
     "traceback": [
      "\u001b[31m---------------------------------------------------------------------------\u001b[39m",
      "\u001b[31mAttributeError\u001b[39m                            Traceback (most recent call last)",
      "\u001b[36mCell\u001b[39m\u001b[36m \u001b[39m\u001b[32mIn[18]\u001b[39m\u001b[32m, line 1\u001b[39m\n\u001b[32m----> \u001b[39m\u001b[32m1\u001b[39m account1 = \u001b[43mBankAccount\u001b[49m\u001b[43m(\u001b[49m\u001b[33;43m'\u001b[39;49m\u001b[33;43mjhonatan\u001b[39;49m\u001b[33;43m'\u001b[39;49m\u001b[43m,\u001b[49m\u001b[43m \u001b[49m\u001b[33;43m'\u001b[39;49m\u001b[33;43mmorgan\u001b[39;49m\u001b[33;43m'\u001b[39;49m\u001b[43m,\u001b[49m\u001b[43m \u001b[49m\u001b[43m-\u001b[49m\u001b[32;43m5\u001b[39;49m\u001b[43m)\u001b[49m\n\u001b[32m      2\u001b[39m account1.balances = \u001b[32m50\u001b[39m\n",
      "\u001b[36mCell\u001b[39m\u001b[36m \u001b[39m\u001b[32mIn[17]\u001b[39m\u001b[32m, line 7\u001b[39m, in \u001b[36mBankAccount.__init__\u001b[39m\u001b[34m(self, first_name, last_name, preferred_timezone_offset)\u001b[39m\n\u001b[32m      5\u001b[39m \u001b[38;5;28mself\u001b[39m.last_name = last_name\n\u001b[32m      6\u001b[39m \u001b[38;5;28mself\u001b[39m.preferred_timezone_offset = preferred_timezone_offset\n\u001b[32m----> \u001b[39m\u001b[32m7\u001b[39m \u001b[38;5;28;43mself\u001b[39;49m\u001b[43m.\u001b[49m\u001b[43mset_balances\u001b[49m(balances) \u001b[38;5;66;03m# type: ignore\u001b[39;00m\n\u001b[32m     10\u001b[39m \u001b[38;5;28;01mdef\u001b[39;00m\u001b[38;5;250m \u001b[39m\u001b[34mget_balances\u001b[39m(\u001b[38;5;28mself\u001b[39m):\n\u001b[32m     11\u001b[39m     \u001b[38;5;28;01mreturn\u001b[39;00m \u001b[38;5;28mself\u001b[39m._balances\n",
      "\u001b[31mAttributeError\u001b[39m: 'BankAccount' object has no attribute 'set_balances'"
     ]
    }
   ],
   "source": [
    "account1 = BankAccount('jhonatan', 'morgan', -5)\n",
    "account1.balances = 50"
   ]
  },
  {
   "cell_type": "code",
   "execution_count": 14,
   "id": "b1363e96",
   "metadata": {},
   "outputs": [
    {
     "data": {
      "text/plain": [
       "{'account_numer': 189,\n",
       " 'first_name': 'jhonatan',\n",
       " 'last_name': 'morgan',\n",
       " 'preferred_timezone_offset': -5,\n",
       " 'balances': 50}"
      ]
     },
     "execution_count": 14,
     "metadata": {},
     "output_type": "execute_result"
    }
   ],
   "source": [
    "account1.__dict__"
   ]
  },
  {
   "cell_type": "code",
   "execution_count": null,
   "id": "85f1c64d",
   "metadata": {},
   "outputs": [],
   "source": []
  }
 ],
 "metadata": {
  "kernelspec": {
   "display_name": "eb-recsys-overview-workshop (3.11.12)",
   "language": "python",
   "name": "python3"
  },
  "language_info": {
   "codemirror_mode": {
    "name": "ipython",
    "version": 3
   },
   "file_extension": ".py",
   "mimetype": "text/x-python",
   "name": "python",
   "nbconvert_exporter": "python",
   "pygments_lexer": "ipython3",
   "version": "3.11.12"
  }
 },
 "nbformat": 4,
 "nbformat_minor": 5
}
